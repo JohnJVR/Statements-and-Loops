{
 "cells": [
  {
   "attachments": {},
   "cell_type": "markdown",
   "id": "46647fb1",
   "metadata": {},
   "source": [
    "# Statements and Loops¶\n",
    "** if else\n",
    "\n",
    " 1) Equals: a == b \n",
    "2) Not Equals: a != b \n",
    "3) Less than: a < b \n",
    "4) Less than or equal to: a <= b \n",
    "5) Greater than: a > \n",
    "6) b Greater than or equal to: a >= b All \n",
    "\n",
    "these conditions can be used in several ways, most commonly in \"if statements\" and loops.\n",
    "\n",
    "An \"if statement\" is written by using the if keyword\n",
    "\n"
   ]
  },
  {
   "cell_type": "code",
   "execution_count": 28,
   "id": "551b8d88",
   "metadata": {},
   "outputs": [
    {
     "name": "stdout",
     "output_type": "stream",
     "text": [
      "b is greater than a\n"
     ]
    }
   ],
   "source": [
    "a = 40\n",
    "b = 400\n",
    "if b > a: # If statement\n",
    " print(\"b is greater than a\") "
   ]
  },
  {
   "cell_type": "code",
   "execution_count": 10,
   "id": "21901fa0",
   "metadata": {},
   "outputs": [
    {
     "name": "stdout",
     "output_type": "stream",
     "text": [
      "print both conditions are true\n"
     ]
    }
   ],
   "source": [
    "# and keyword  is a logical operator it can combine conditional statements\n",
    "a = 40\n",
    "b = 400\n",
    "c = 450\n",
    "if b > a and c>a: # and statement\n",
    " print(\"print both conditions are true\") "
   ]
  },
  {
   "cell_type": "code",
   "execution_count": 18,
   "id": "a5200b97",
   "metadata": {},
   "outputs": [
    {
     "name": "stdout",
     "output_type": "stream",
     "text": [
      "At least one of the conditions is True\n"
     ]
    }
   ],
   "source": [
    "# or keyword  is a logical operator it can combine conditional statements\n",
    "\n",
    "a = 40\n",
    "b = 400\n",
    "c = 450\n",
    "if b > a or c < a: # or statement\n",
    " print(\"At least one of the conditions is True\") \n"
   ]
  },
  {
   "cell_type": "code",
   "execution_count": 25,
   "id": "07f88892",
   "metadata": {},
   "outputs": [
    {
     "name": "stdout",
     "output_type": "stream",
     "text": [
      "Above 16,\n",
      "and also above 40!\n"
     ]
    }
   ],
   "source": [
    "# Nested if - We can have if statements inside if statements\n",
    "\n",
    "x = 80\n",
    "\n",
    "if x > 16:\n",
    "  print(\"Above 16,\")\n",
    "  if x > 40:\n",
    "    print(\"and also above 40!\")\n",
    "  else:\n",
    "    print(\"does not satisfy both conditions\")"
   ]
  },
  {
   "cell_type": "code",
   "execution_count": 27,
   "id": "f4157dc7",
   "metadata": {},
   "outputs": [
    {
     "name": "stdout",
     "output_type": "stream",
     "text": [
      "Above 16,\n",
      "does not satisfy one condition\n"
     ]
    }
   ],
   "source": [
    "# nested if statements\n",
    "x = 20\n",
    "\n",
    "if x > 16:\n",
    "  print(\"Above 16,\")\n",
    "  if x > 40:\n",
    "    print(\"and also above 40!\")\n",
    "  else:\n",
    "    print(\"does not satisfy one condition\")"
   ]
  },
  {
   "cell_type": "code",
   "execution_count": 23,
   "id": "4212736e",
   "metadata": {},
   "outputs": [
    {
     "ename": "IndentationError",
     "evalue": "expected an indented block (<ipython-input-23-640ffa00ce0d>, line 4)",
     "output_type": "error",
     "traceback": [
      "\u001b[1;36m  File \u001b[1;32m\"<ipython-input-23-640ffa00ce0d>\"\u001b[1;36m, line \u001b[1;32m4\u001b[0m\n\u001b[1;33m    print(\"b is greater than a\") # Indentation error\u001b[0m\n\u001b[1;37m    ^\u001b[0m\n\u001b[1;31mIndentationError\u001b[0m\u001b[1;31m:\u001b[0m expected an indented block\n"
     ]
    }
   ],
   "source": [
    "\n",
    "a = 40\n",
    "b = 400\n",
    "if b > a:\n",
    "print(\"b is greater than a\") # Indentation error"
   ]
  },
  {
   "cell_type": "code",
   "execution_count": 4,
   "id": "0db53cc4",
   "metadata": {},
   "outputs": [
    {
     "name": "stdout",
     "output_type": "stream",
     "text": [
      "b is greater than a\n"
     ]
    }
   ],
   "source": [
    "a = 40\n",
    "b = 400\n",
    "if b > a:\n",
    " print(\"b is greater than a\")"
   ]
  },
  {
   "cell_type": "code",
   "execution_count": 5,
   "id": "59cca111",
   "metadata": {},
   "outputs": [
    {
     "name": "stdout",
     "output_type": "stream",
     "text": [
      "a and b are equal\n"
     ]
    }
   ],
   "source": [
    "# Elif Statement\n",
    "a = 16\n",
    "b = 16\n",
    "if b > a:\n",
    "  print(\"b is greater than a\")\n",
    "elif a == b:\n",
    "  print(\"a and b are equal\")"
   ]
  },
  {
   "cell_type": "markdown",
   "id": "caf13d84",
   "metadata": {},
   "source": [
    "**In the above example a is equal to b, so the first condition is not true, but the elif condition is true, so it print to screen that \"a and b are equal\"."
   ]
  },
  {
   "cell_type": "code",
   "execution_count": 8,
   "id": "f5a536e4",
   "metadata": {},
   "outputs": [
    {
     "name": "stdout",
     "output_type": "stream",
     "text": [
      "a is greater than b\n"
     ]
    }
   ],
   "source": [
    "# Else\n",
    "a = 70\n",
    "b = 20\n",
    "if b > a:\n",
    "  print(\"b is greater than a\")\n",
    "elif a == b:\n",
    "  print(\"a and b are equal\")\n",
    "else:\n",
    "  print(\"a is greater than b\") # Else statement is True"
   ]
  },
  {
   "cell_type": "markdown",
   "id": "45c96876",
   "metadata": {},
   "source": [
    "** In the above example a is greater than b, so the if first condition is not true, also the elif condition is not true, so we go to the else condition and print to screen that \"a is greater than b\".\n",
    "\n",
    "You can also have an else without the elif, Remove the Elif condition and execute."
   ]
  },
  {
   "attachments": {
    "python_for_loop.jpg": {
     "image/jpeg": "[encoded data removed]"
    }
   },
   "cell_type": "markdown",
   "id": "65865766",
   "metadata": {},
   "source": [
    "# Loops\n",
    "** 1) While 2) for\n",
    "\n",
    "1) The while Loop\n",
    "\n",
    "With the while loop we can execute a set of statements as long as a condition is true.\n",
    "\n",
    "2) For Loop\n",
    "\n",
    "A for loop is used for iterating over a sequence (that is either a list, a tuple, a dictionary, a set, or a string).\n",
    "![python_for_loop.jpg](attachment:python_for_loop.jpg)"
   ]
  },
  {
   "cell_type": "markdown",
   "id": "5ad61232",
   "metadata": {},
   "source": [
    "# While loops"
   ]
  },
  {
   "cell_type": "code",
   "execution_count": 30,
   "id": "4f26fc15",
   "metadata": {},
   "outputs": [
    {
     "name": "stdout",
     "output_type": "stream",
     "text": [
      "1\n",
      "2\n",
      "3\n",
      "4\n",
      "5\n",
      "6\n",
      "7\n",
      "8\n",
      "9\n"
     ]
    }
   ],
   "source": [
    "# while Loop - With the while loop we can execute a set of statements as long as a condition is true.\n",
    "# Print i as long as i is less than 10:\n",
    "i = 1\n",
    "while i < 10:\n",
    "  print(i)\n",
    "  i += 1"
   ]
  },
  {
   "cell_type": "code",
   "execution_count": 31,
   "id": "3cb4fc21",
   "metadata": {},
   "outputs": [
    {
     "name": "stdout",
     "output_type": "stream",
     "text": [
      "1\n",
      "2\n",
      "3\n",
      "4\n",
      "5\n"
     ]
    }
   ],
   "source": [
    "# break Statement - we can stop the loop even if the while condition is true\n",
    "# Break the loop once it reaches 5\n",
    "i = 1\n",
    "while i < 10:\n",
    "  print(i)\n",
    "  if i == 5: # gave the break statement to stop the loop\n",
    "    break\n",
    "  i += 1 "
   ]
  },
  {
   "cell_type": "code",
   "execution_count": 33,
   "id": "f59feacc",
   "metadata": {},
   "outputs": [
    {
     "name": "stdout",
     "output_type": "stream",
     "text": [
      "1\n",
      "2\n",
      "3\n",
      "4\n",
      "6\n",
      "7\n",
      "8\n",
      "9\n",
      "10\n"
     ]
    }
   ],
   "source": [
    "# continue Statement - we can stop the current iteration, and continue with the next\n",
    "# stopped the current iteration once it reaches 5 and continue with the next\n",
    "i = 0\n",
    "while i < 10:\n",
    "  i += 1\n",
    "  if i == 5: # Stopped the current iteration and continud with the next\n",
    "    continue\n",
    "  print(i)\n"
   ]
  },
  {
   "cell_type": "code",
   "execution_count": 34,
   "id": "0805939b",
   "metadata": {},
   "outputs": [
    {
     "name": "stdout",
     "output_type": "stream",
     "text": [
      "1\n",
      "2\n",
      "3\n",
      "4\n",
      "5\n",
      "6\n",
      "7\n",
      "8\n",
      "9\n",
      "i is no longer less than 10\n"
     ]
    }
   ],
   "source": [
    "# Else statement - we can run a block of code once when the condition no longer is true\n",
    "\n",
    "i = 1\n",
    "while i < 10:\n",
    "  print(i)\n",
    "  i += 1\n",
    "else:\n",
    "  print(\"i is no longer less than 10\")\n"
   ]
  },
  {
   "cell_type": "markdown",
   "id": "0c622690",
   "metadata": {},
   "source": [
    "# For Loops"
   ]
  },
  {
   "cell_type": "code",
   "execution_count": 39,
   "id": "7722c5d8",
   "metadata": {},
   "outputs": [
    {
     "name": "stdout",
     "output_type": "stream",
     "text": [
      "India\n",
      "Canada\n",
      "Switzerland\n",
      "Finland\n",
      "Germany\n"
     ]
    }
   ],
   "source": [
    "country = [\"India\", \"Canada\", \"Switzerland\", \"Finland\", \"Germany\"]\n",
    "for x in country:\n",
    "  print(x)"
   ]
  },
  {
   "cell_type": "code",
   "execution_count": 40,
   "id": "3913ee9c",
   "metadata": {},
   "outputs": [
    {
     "name": "stdout",
     "output_type": "stream",
     "text": [
      "S\n",
      "w\n",
      "i\n",
      "t\n",
      "z\n",
      "e\n",
      "r\n",
      "l\n",
      "a\n",
      "n\n",
      "d\n"
     ]
    }
   ],
   "source": [
    "# Looping Through a String\n",
    "\n",
    "for x in \"Switzerland\":\n",
    "  print(x)"
   ]
  },
  {
   "cell_type": "code",
   "execution_count": 42,
   "id": "d6d8fd5a",
   "metadata": {},
   "outputs": [
    {
     "name": "stdout",
     "output_type": "stream",
     "text": [
      "India\n",
      "Canada\n",
      "Switzerland\n"
     ]
    }
   ],
   "source": [
    "# break Statement -  we can stop the loop before it has looped through all the items\n",
    "country = [\"India\", \"Canada\", \"Switzerland\", \"Finland\", \"Germany\"]\n",
    "for x in country:\n",
    "  print(x)\n",
    "  if x == \"Switzerland\":\n",
    "    break"
   ]
  },
  {
   "cell_type": "code",
   "execution_count": 45,
   "id": "3e25384d",
   "metadata": {},
   "outputs": [
    {
     "name": "stdout",
     "output_type": "stream",
     "text": [
      "India\n",
      "Canada\n"
     ]
    }
   ],
   "source": [
    "country = [\"India\", \"Canada\", \"Switzerland\", \"Finland\", \"Germany\"]\n",
    "for x in country:\n",
    "  if x == \"Switzerland\":\n",
    "    break\n",
    "  print (x) # the loop when x is \"Switzerland\""
   ]
  },
  {
   "cell_type": "code",
   "execution_count": 46,
   "id": "f9bf5d5b",
   "metadata": {},
   "outputs": [
    {
     "name": "stdout",
     "output_type": "stream",
     "text": [
      "India\n",
      "Canada\n",
      "Finland\n",
      "Germany\n"
     ]
    }
   ],
   "source": [
    "# For loop with continue statement - we can stop the current iteration of the loop, and continue with the next\n",
    "\n",
    "country = [\"India\", \"Canada\", \"Switzerland\", \"Finland\", \"Germany\"]\n",
    "for x in country:\n",
    "  if x == \"Switzerland\":\n",
    "    continue\n",
    "  print(x)\n"
   ]
  },
  {
   "cell_type": "code",
   "execution_count": 49,
   "id": "5d6c24ca",
   "metadata": {},
   "outputs": [
    {
     "name": "stdout",
     "output_type": "stream",
     "text": [
      "0\n",
      "1\n",
      "2\n",
      "3\n",
      "4\n",
      "5\n",
      "6\n",
      "7\n",
      "8\n",
      "9\n"
     ]
    }
   ],
   "source": [
    "# Range function\n",
    "for x in range(10):\n",
    "  print(x)"
   ]
  },
  {
   "cell_type": "code",
   "execution_count": 50,
   "id": "c27656cc",
   "metadata": {},
   "outputs": [
    {
     "name": "stdout",
     "output_type": "stream",
     "text": [
      "5\n",
      "6\n",
      "7\n",
      "8\n",
      "9\n"
     ]
    }
   ],
   "source": [
    "for x in range(5, 10):\n",
    "  print(x)"
   ]
  },
  {
   "cell_type": "code",
   "execution_count": 52,
   "id": "e33498a0",
   "metadata": {},
   "outputs": [
    {
     "name": "stdout",
     "output_type": "stream",
     "text": [
      "2\n",
      "5\n",
      "8\n",
      "11\n",
      "14\n",
      "17\n"
     ]
    }
   ],
   "source": [
    "for x in range(2, 20, 3): #  increment the sequence\n",
    "  print(x)"
   ]
  },
  {
   "cell_type": "code",
   "execution_count": 53,
   "id": "4d2d42be",
   "metadata": {},
   "outputs": [
    {
     "name": "stdout",
     "output_type": "stream",
     "text": [
      "0\n",
      "1\n",
      "2\n",
      "3\n",
      "4\n",
      "5\n",
      "6\n",
      "7\n",
      "8\n",
      "9\n",
      "Finally finished!\n"
     ]
    }
   ],
   "source": [
    "for x in range(10):\n",
    "  print(x)\n",
    "else:\n",
    "  print(\"Finally finished!\")  # Print all numbers from 0 to 10, and print the message when the loop has ended."
   ]
  },
  {
   "cell_type": "code",
   "execution_count": 54,
   "id": "c4c62863",
   "metadata": {},
   "outputs": [
    {
     "name": "stdout",
     "output_type": "stream",
     "text": [
      "0\n",
      "1\n",
      "2\n",
      "3\n",
      "4\n"
     ]
    }
   ],
   "source": [
    "# The else block will NOT be executed if the loop is stopped by a break statement\n",
    "# Break the loop when x is 5\n",
    "for x in range(10):\n",
    "  if x == 5: break\n",
    "  print(x)\n",
    "else:\n",
    "  print(\"Finally finished!\")"
   ]
  },
  {
   "cell_type": "code",
   "execution_count": 56,
   "id": "35da9a8c",
   "metadata": {},
   "outputs": [
    {
     "name": "stdout",
     "output_type": "stream",
     "text": [
      "Home India\n",
      "Home Canada\n",
      "Home Switzerland\n",
      "Home Finland\n",
      "Home Germany\n",
      "Good India\n",
      "Good Canada\n",
      "Good Switzerland\n",
      "Good Finland\n",
      "Good Germany\n",
      "Happy India\n",
      "Happy Canada\n",
      "Happy Switzerland\n",
      "Happy Finland\n",
      "Happy Germany\n",
      "peaceful India\n",
      "peaceful Canada\n",
      "peaceful Switzerland\n",
      "peaceful Finland\n",
      "peaceful Germany\n"
     ]
    }
   ],
   "source": [
    "# Nested Loops - The \"inner loop\" will be executed one time for each iteration of the \"outer loop\"\n",
    "adj = [\"Home\", \"Good\", \"Happy\", \"peaceful\"]\n",
    "country = [\"India\", \"Canada\", \"Switzerland\", \"Finland\", \"Germany\"]\n",
    "\n",
    "for x in adj:\n",
    "  for y in country:\n",
    "    print(x, y)\n"
   ]
  },
  {
   "cell_type": "code",
   "execution_count": null,
   "id": "ecde92f6",
   "metadata": {},
   "outputs": [],
   "source": []
  }
 ],
 "metadata": {
  "kernelspec": {
   "display_name": "Python 3",
   "language": "python",
   "name": "python3"
  },
  "language_info": {
   "codemirror_mode": {
    "name": "ipython",
    "version": 3
   },
   "file_extension": ".py",
   "mimetype": "text/x-python",
   "name": "python",
   "nbconvert_exporter": "python",
   "pygments_lexer": "ipython3",
   "version": "3.8.8"
  }
 },
 "nbformat": 4,
 "nbformat_minor": 5
}
